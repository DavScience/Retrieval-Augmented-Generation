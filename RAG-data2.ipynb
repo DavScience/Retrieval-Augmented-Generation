{
 "cells": [
  {
   "cell_type": "markdown",
   "id": "0969bd1e-5f72-4acb-8cc6-ba7152ce1ea2",
   "metadata": {},
   "source": [
    "# Retrieval Augmented Generation"
   ]
  },
  {
   "cell_type": "markdown",
   "id": "953b4162-581b-43ed-a880-3c53b40785ce",
   "metadata": {},
   "source": [
    "David Fischanger<br>\n",
    "Import Libraries and Load Dataset"
   ]
  },
  {
   "cell_type": "code",
   "execution_count": 7,
   "id": "f2fcbc03-3d17-49fa-a89d-c7c4ba954915",
   "metadata": {},
   "outputs": [],
   "source": [
    "import pandas as pd\n",
    "from sklearn.feature_extraction.text import TfidfVectorizer\n",
    "from sklearn.metrics.pairwise import cosine_similarity"
   ]
  },
  {
   "cell_type": "code",
   "execution_count": 8,
   "id": "17fb2f3e-6865-4e30-bf66-cd3f045b2569",
   "metadata": {},
   "outputs": [],
   "source": [
    "# Load sample dataset\n",
    "try:\n",
    "    df = pd.read_csv('pinterest-fashion-dataset.csv')\n",
    "except FileNotFoundError:\n",
    "    print(\"File not found. Please check the file path.\")\n",
    "except pd.errors.ParserError:\n",
    "    print(\"Error parsing the file. Please check the file format.\")"
   ]
  },
  {
   "cell_type": "markdown",
   "id": "a01ecafb-dc64-4f9d-8258-d5dbef4a6b7e",
   "metadata": {},
   "source": [
    "## Define Retrieval Function"
   ]
  },
  {
   "cell_type": "code",
   "execution_count": 9,
   "id": "4171d3f1-bdb4-4b44-80b4-7d6456259a97",
   "metadata": {},
   "outputs": [],
   "source": [
    "def retrieve_function(user_query, df):\n",
    "    # Vectorize the descriptions\n",
    "    tfidf_vectorizer = TfidfVectorizer()\n",
    "    product_descriptions = df[\"image_description\"].fillna('').astype(str).apply(lambda x: x.lower())\n",
    "    tfidf_matrix = tfidf_vectorizer.fit_transform(product_descriptions)\n",
    "\n",
    "    # Vectorize the user query\n",
    "    query_vec = tfidf_vectorizer.transform([user_query.lower()])\n",
    "\n",
    "    # Compute cosine similarity\n",
    "    cosine_similarities = cosine_similarity(query_vec, tfidf_matrix).flatten()\n",
    "\n",
    "    # Get the top 5 most similar products\n",
    "    top_indices = cosine_similarities.argsort()[-5:][::-1]\n",
    "    relevant_products = df.iloc[top_indices]\n",
    "\n",
    "    return relevant_products"
   ]
  },
  {
   "cell_type": "markdown",
   "id": "193f814b-1375-46f8-a03e-db30d668bc3e",
   "metadata": {},
   "source": [
    "## RAG System with Product Recommendation"
   ]
  },
  {
   "cell_type": "markdown",
   "id": "25d4f9c3-3dcd-453d-a848-b434ffd25106",
   "metadata": {},
   "source": [
    "### Define User Profile Input / testmode only - not for scaling!"
   ]
  },
  {
   "cell_type": "code",
   "execution_count": 13,
   "id": "fb226cde-14cf-4d58-9bd0-2c3de1adfd9b",
   "metadata": {},
   "outputs": [],
   "source": [
    "def get_user_profile():\n",
    "    while True:\n",
    "        try:\n",
    "            age = int(input(\"Please enter your age: \"))\n",
    "            if age < 0 or age > 120:\n",
    "                raise ValueError(\"Age must be between 0 and 120.\")\n",
    "            break\n",
    "        except ValueError as e:\n",
    "            print(f\"Invalid input: {e}. Please try again.\")\n",
    "\n",
    "    while True:\n",
    "        gender = input(\"Please enter your gender (M/F/Other): \").strip().upper()\n",
    "        if gender in ['M', 'F', 'OTHER']:\n",
    "            break\n",
    "        else:\n",
    "            print(\"Invalid input. Please enter M, F, or Other.\")\n",
    "\n",
    "    location = input(\"Please enter your location: \").strip()\n",
    "    interests = input(\"What kind of fashion items are you interested in? (e.g., Shoes, Pants, Sunglasses): \").strip()\n",
    "\n",
    "    return age, gender, location, interests"
   ]
  },
  {
   "cell_type": "markdown",
   "id": "2fc1216e-11f9-4165-b8dd-f65ca38ced2a",
   "metadata": {},
   "source": [
    "## Utilize the Retrieval Model and Generate Recommendations"
   ]
  },
  {
   "cell_type": "markdown",
   "id": "e93037e5-56e6-433f-9bde-2d2d50d71d08",
   "metadata": {},
   "source": [
    "incorporate the retrieval function to filter products and then justify the recommendations based on the user’s profile"
   ]
  },
  {
   "cell_type": "code",
   "execution_count": 14,
   "id": "08f3cb7b-ef55-4297-a89d-f76c6928f210",
   "metadata": {},
   "outputs": [],
   "source": [
    "import random\n",
    "\n",
    "def rag_system(age, gender, location, interests, df):\n",
    "    # Generate a more specific query based on user input\n",
    "    user_query = f\"{interests} fashion items for {age} year old {gender} in {location}\"\n",
    "    relevant_products = retrieve_function(user_query, df)\n",
    "\n",
    "    # Filter products based on user profile\n",
    "    filtered_products = relevant_products[\n",
    "        (relevant_products['age'].astype(str).str.contains(str(age), case=False, na=False)) &\n",
    "        (relevant_products['gender'] == gender)\n",
    "    ]\n",
    "\n",
    "    # If no products match the exact criteria, return the top relevant products\n",
    "    if filtered_products.empty:\n",
    "        filtered_products = relevant_products\n",
    "\n",
    "    # Introduce randomness: randomly select up to 5 products from the filtered list\n",
    "    num_recommendations = min(5, len(filtered_products))\n",
    "    selected_products = filtered_products.sample(n=num_recommendations)\n",
    "\n",
    "    # Generate recommendations\n",
    "    recommendations = []\n",
    "    for _, product in selected_products.iterrows():\n",
    "        justification = f\"Based on your interest in {interests}, and considering your location in {location}, we recommend a {product['brand']} item priced at ${product['price in $']:.2f}. It has a rating of {product['ratings']:.1f} and is described as: {product['image_description']}.\"\n",
    "        recommendations.append(justification)\n",
    "\n",
    "    return recommendations"
   ]
  },
  {
   "cell_type": "markdown",
   "id": "6fff6c41-a27f-473d-9948-04d92d0b1ae4",
   "metadata": {},
   "source": [
    "# RAG Execution"
   ]
  },
  {
   "cell_type": "code",
   "execution_count": null,
   "id": "611cf42a-4539-4be7-bceb-f41b0a803390",
   "metadata": {},
   "outputs": [
    {
     "name": "stdout",
     "output_type": "stream",
     "text": [
      "Welcome to the Fashion Recommendation System!\n"
     ]
    },
    {
     "name": "stdin",
     "output_type": "stream",
     "text": [
      "Please enter your age:  \n"
     ]
    },
    {
     "name": "stdout",
     "output_type": "stream",
     "text": [
      "Invalid input: invalid literal for int() with base 10: ''. Please try again.\n"
     ]
    }
   ],
   "source": [
    "# execution of the task\n",
    "if __name__ == \"__main__\":\n",
    "    print(\"Welcome to the Fashion Recommendation System!\")\n",
    "    age, gender, location, interests = get_user_profile()\n",
    "    \n",
    "    recommendations = rag_system(age, gender, location, interests, df)\n",
    "\n",
    "    print(\"\\nHere are your personalized fashion recommendations:\")\n",
    "    for i, rec in enumerate(recommendations, 1):\n",
    "        print(f\"\\nRecommendation {i}:\")\n",
    "        print(rec)"
   ]
  },
  {
   "cell_type": "markdown",
   "id": "8a2cd53a-8b7a-49f5-9737-ae2b0010d021",
   "metadata": {},
   "source": [
    "***\n",
    "\n",
    "# End of code\n",
    "\n",
    "***"
   ]
  },
  {
   "cell_type": "code",
   "execution_count": null,
   "id": "9f7445c3-57b7-4823-b3a9-17ca372ecf4c",
   "metadata": {},
   "outputs": [],
   "source": []
  }
 ],
 "metadata": {
  "kernelspec": {
   "display_name": "Python 3 (ipykernel)",
   "language": "python",
   "name": "python3"
  },
  "language_info": {
   "codemirror_mode": {
    "name": "ipython",
    "version": 3
   },
   "file_extension": ".py",
   "mimetype": "text/x-python",
   "name": "python",
   "nbconvert_exporter": "python",
   "pygments_lexer": "ipython3",
   "version": "3.12.1"
  }
 },
 "nbformat": 4,
 "nbformat_minor": 5
}
